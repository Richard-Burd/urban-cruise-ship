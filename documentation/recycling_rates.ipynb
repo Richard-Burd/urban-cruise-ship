{
 "cells": [
  {
   "cell_type": "markdown",
   "id": "160d0bde",
   "metadata": {},
   "source": [
    "# Updated Recycling Rates\n",
    "\n",
    "See [Sustainable Materials Management](https://catalog.data.gov/dataset/sustainable-materials-management-smm-materials-and-waste-management-in-the-united-states-key-fa12). The most recent data reflected in the data is from 2018, and as of 2025, it does not appear that it will be updated again."
   ]
  },
  {
   "cell_type": "code",
   "execution_count": 1,
   "id": "e68066ba",
   "metadata": {},
   "outputs": [],
   "source": [
    "import pandas as pd"
   ]
  },
  {
   "cell_type": "code",
   "execution_count": 6,
   "id": "7ae220dd",
   "metadata": {},
   "outputs": [
    {
     "name": "stdout",
     "output_type": "stream",
     "text": [
      "Materials generated\n",
      "Materials recycled\n",
      "Material combusted\n",
      "Materials landfilled\n",
      "Products generated durable good\n",
      "Products recycled durable good\n",
      "Products combusted durable good\n",
      "Products landfill durable good\n",
      "Products generated nondurable\n",
      "Products recycled nondurable\n",
      "Products combusted nondurable\n",
      "Products landfilled nondurable\n",
      "Products generated contain&pkg\n",
      "Products recycled contain&pkg\n",
      "Products combusted contain&pkg\n",
      "Products landfilled contain&pkg\n"
     ]
    }
   ],
   "source": [
    "sheets = pd.read_excel(\"Materials_Municipal_Waste_Stream_1960_2018.xlsx\",sheet_name = None)\n",
    "for k in sheets:\n",
    "    print(k)"
   ]
  },
  {
   "cell_type": "code",
   "execution_count": 30,
   "id": "694431e2",
   "metadata": {},
   "outputs": [
    {
     "name": "stdout",
     "output_type": "stream",
     "text": [
      "Total MSW in 2018: 292360000.0\n",
      "Total MSW recycled in 2018: 93980000.0\n",
      "Total MSW combusted in 2018: 34550000.0\n",
      "\n",
      "Recycling rate in 2018: 32.14530031468053%\n",
      "Combustion rate in 2018: 11.817622109727733%\n"
     ]
    }
   ],
   "source": [
    "mg = sheets[\"Materials generated\"]\n",
    "total_waste = mg[mg[\"Materials\"]==\"Total MSW Generated - Weight\"]\n",
    "total_waste_2018 = total_waste.loc[total_waste.index[0],2018]\n",
    "print(\"Total MSW in 2018: \",total_waste_2018,sep=\"\")\n",
    "\n",
    "mr = sheets[\"Materials recycled\"]\n",
    "total_recycle = mr[mr[\"Materials\"]==\"Total MSW Recycled and Composted - Weight\"]\n",
    "total_recycle_2018 = total_recycle.loc[total_recycle.index[0],2018]\n",
    "print(\"Total MSW recycled in 2018: \",total_recycle_2018,sep=\"\")\n",
    "\n",
    "mr = sheets[\"Material combusted\"]\n",
    "total_combust = mr[mr[\"Materials\"]==\"Total MSW Combusted - Weight\"]\n",
    "total_combust_2018 = total_combust.loc[total_combust.index[0],2018]\n",
    "print(\"Total MSW combusted in 2018: \",total_combust_2018,sep=\"\")\n",
    "\n",
    "print(\"\")\n",
    "print(\"Recycling rate in 2018: \",total_recycle_2018/total_waste_2018*100,\"%\",sep=\"\")\n",
    "print(\"Combustion rate in 2018: \",total_combust_2018/total_waste_2018*100,\"%\",sep=\"\")"
   ]
  },
  {
   "cell_type": "code",
   "execution_count": null,
   "id": "130ba5f3",
   "metadata": {},
   "outputs": [],
   "source": []
  },
  {
   "cell_type": "code",
   "execution_count": null,
   "id": "a3120f97",
   "metadata": {},
   "outputs": [],
   "source": []
  },
  {
   "cell_type": "code",
   "execution_count": null,
   "id": "88c74515",
   "metadata": {},
   "outputs": [],
   "source": []
  }
 ],
 "metadata": {
  "kernelspec": {
   "display_name": "Python 3 (ipykernel)",
   "language": "python",
   "name": "python3"
  },
  "language_info": {
   "codemirror_mode": {
    "name": "ipython",
    "version": 3
   },
   "file_extension": ".py",
   "mimetype": "text/x-python",
   "name": "python",
   "nbconvert_exporter": "python",
   "pygments_lexer": "ipython3",
   "version": "3.10.9"
  }
 },
 "nbformat": 4,
 "nbformat_minor": 5
}
